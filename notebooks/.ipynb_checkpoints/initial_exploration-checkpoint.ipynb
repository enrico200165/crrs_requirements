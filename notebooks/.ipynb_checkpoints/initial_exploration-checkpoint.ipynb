{
 "cells": [
  {
   "cell_type": "code",
   "execution_count": 3,
   "id": "cd5e30d7",
   "metadata": {},
   "outputs": [
    {
     "name": "stdout",
     "output_type": "stream",
     "text": [
      "Index(['rp_spec_id', 'req_id', 'name', 'description', 'status', 'source',\n",
      "       'rationale'],\n",
      "      dtype='object')\n",
      "0    Postponed\n",
      "1    Postponed\n",
      "2    Postponed\n",
      "3    Postponed\n",
      "4     Proposed\n",
      "Name: status, dtype: object\n",
      "Postponed    46\n",
      "Proposed     25\n",
      "Name: status, dtype: int64\n"
     ]
    }
   ],
   "source": [
    "import sys\n",
    "import os.path\n",
    "\n",
    "\n",
    "import crrs_reqs_global_defs as g\n",
    "import build_req_df_bare as bld\n",
    "\n",
    "sys.path.insert(0, '../python/crrs_reqs')\n",
    "\n",
    "\n",
    "filepath = os.path.join(g.path, g.filename_shk)\n",
    "df = bld.reqs_from_word_file(filepath)\n",
    "print(df.columns)\n",
    "print(df[g.status_key][0:5])\n",
    "print(df[g.status_key].value_counts())\n"
   ]
  },
  {
   "cell_type": "markdown",
   "id": "7ef15641",
   "metadata": {},
   "source": [
    "# Cancella prima di GitHub"
   ]
  },
  {
   "cell_type": "markdown",
   "id": "8e3abcf3",
   "metadata": {},
   "source": [
    "from IPython.display import display, HTML\n",
    "display(HTML(df.to_html()))"
   ]
  },
  {
   "cell_type": "code",
   "execution_count": null,
   "id": "9bf60aa0",
   "metadata": {},
   "outputs": [],
   "source": []
  }
 ],
 "metadata": {
  "kernelspec": {
   "display_name": "Python 3",
   "language": "python",
   "name": "python3"
  },
  "language_info": {
   "codemirror_mode": {
    "name": "ipython",
    "version": 3
   },
   "file_extension": ".py",
   "mimetype": "text/x-python",
   "name": "python",
   "nbconvert_exporter": "python",
   "pygments_lexer": "ipython3",
   "version": "3.8.10"
  }
 },
 "nbformat": 4,
 "nbformat_minor": 5
}
